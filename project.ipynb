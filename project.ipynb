{
 "cells": [
  {
   "cell_type": "markdown",
   "metadata": {},
   "source": [
    "# Reducing Traffic Mortality in the USA"
   ]
  },
  {
   "cell_type": "code",
   "execution_count": null,
   "metadata": {},
   "outputs": [],
   "source": [
    "# This is a code cell without any tag. You can put convenience code here,\n",
    "# but it won't be included in any way in the final project.\n",
    "# For example, to be able to run tests locally in the notebook\n",
    "# you need to install the following:\n",
    "# pip install nose\n",
    "# pip install git+https://github.com/datacamp/ipython_nose\n",
    "# and then load in the ipython_nose extension like this:\n",
    "%load_ext ipython_nose"
   ]
  },
  {
   "cell_type": "markdown",
   "metadata": {
    "tags": [
     "type:NotebookTask"
    ]
   },
   "source": [
    "## 1. The raw data files and their format"
   ]
  },
  {
   "cell_type": "markdown",
   "metadata": {
    "tags": [
     "@context"
    ]
   },
   "source": [
    "![](img/car-accident.jpg)\n",
    "\n",
    "While the rate of fatal road accidents has been decreasing steadily since the 80's, the past ten years have seen a stagnation in this reduction. Coupled with the increase in number of miles driven in the nation, the total number of traffic related-fatalities has now reached a ten year high and is rapidly increasing.\n",
    "\n",
    "Per request of the US Department of Transportation, we are currently investigating how to derive a strategy to reduce the incidence of road accidents across the nation. By looking at the demographics of traﬃc accident victims for each US state, we find that there is a lot of variation between states. Now we want to understand if there are patterns in this variation in order to derive suggestions for a policy action plan. In particular, instead of implementing a costly nation-wide plan we want to focus on groups of  states with similar profiles. How can we find such groups in a statistically sound way and communicate the result effectively?\n",
    "\n",
    "To accomplish these tasks, we will make use of data wrangling, plotting, dimensionality reduction, and unsupervised clustering.\n",
    "\n",
    "The data given to us was originally collected by the National Highway Traffic Safety Administration and the National Association of Insurance Commissioners. This particular dataset was compiled and released as a [CSV-file](https://github.com/fivethirtyeight/data/tree/master/bad-drivers) by FiveThirtyEight under the [CC-BY4.0 license](https://github.com/ﬁvethirtyeight/data)."
   ]
  },
  {
   "cell_type": "markdown",
   "metadata": {
    "tags": [
     "@instructions"
    ]
   },
   "source": [
    "Explore your current folder and view the main dataset file.\n",
    "\n",
    "- Check the name of the current folder using `!pwd`.\n",
    "- List all files in this folder using `!ls`.\n",
    "- View the first 20 lines of `road-accidents.csv` in the `datasets` folder using `!head`.\n",
    "\n",
    "<hr>\n",
    "\n",
    "## Good to know\n",
    "\n",
    "This project lets you practice skills from:\n",
    "- [Introduction to Shell for Data Science](https://www.datacamp.com/courses/introduction-to-shell-for-data-science), including how to navigate the file system and view files\n",
    "- [pandas Foundations](https://www.datacamp.com/courses/pandas-foundations), including reading, exploring, filtering, and grouping data\n",
    "- [Manipulating DataFrames with pandas](https://www.datacamp.com/courses/manipulating-dataframes-with-pandas), including how to reshape data into the long format and how to perform multiple aggregations\n",
    "- [Merging DataFrames with pandas](https://www.datacamp.com/courses/merging-dataframes-with-pandas), including how two merge two DataFrames\n",
    "- [Unsupervised Learning in Python](https://www.datacamp.com/courses/unsupervised-learning-in-python), including KMeans clustering, dimensionally reduction through PCA, and visualizations using `matplotlib`\n",
    "- [Supervised Learning with scikit-learn](https://www.datacamp.com/courses/supervised-learning-with-scikit-learn), including multivariate regression\n",
    "- [Intermediate Python for Data Science](https://www.datacamp.com/courses/intermediate-python-for-data-science), including visualizations using `matplotlib`\n",
    "- [Data Visualization With Seaborn](https://www.datacamp.com/courses/data-visualization-with-seaborn), including statistical visualizations using `seaborn`\n",
    "\n",
    "We recommend that you review the appropriate sections of those courses before starting this project.\n",
    "\n",
    "Here are [three charts](https://i.imgur.com/xXHvbdn.png) illustrating the road accident fatality situation described in the notebook's first paragraph.\n",
    "\n",
    "Helpful links:\n",
    "- [Manipulating Files and Directories](https://www.datacamp.com/courses/introduction-to-shell-for-data-science)\n",
    "- [How to run shell commands in a Jupyter Notebook](https://jakevdp.github.io/PythonDataScienceHandbook/01.05-ipython-and-shell-commands.html) (through the underlying IPython interpreter)\n",
    "- For viewing the first few lines of a file using shell commands, exercise [number 3](https://campus.datacamp.com/courses/introduction-to-shell-for-data-science/manipulating-data?ex=3) and [number 5](https://campus.datacamp.com/courses/introduction-to-shell-for-data-science/manipulating-data?ex=5) in the \n",
    "[Manipulating Files and Directories](https://www.datacamp.com/courses/introduction-to-shell-for-data-science) "
   ]
  },
  {
   "cell_type": "markdown",
   "metadata": {
    "tags": [
     "@hint"
    ]
   },
   "source": [
    "Preface the shell command with `!` so that the Jupyter Notebook knows to interpret it as a shell command rather than a Python variable, e.g. `!ls` to list files in the directory.\n",
    "\n",
    "Does your code for the third bullet look like this:\n",
    "\n",
    "```python\n",
    "accidents_head = !head -n [NUMBER_OF_LINES] [PATH/TO_FILE]\n",
    "```"
   ]
  },
  {
   "cell_type": "code",
   "execution_count": null,
   "metadata": {
    "tags": [
     "@sample_code"
    ]
   },
   "outputs": [],
   "source": [
    "# Check the name of the current folder\n",
    "current_dir = ...\n",
    "print(current_dir)\n",
    "\n",
    "# List all files in this folder\n",
    "file_list = ...\n",
    "print(file_list)\n",
    "\n",
    "# List all files in the datasets directory\n",
    "dataset_list = ...\n",
    "print(dataset_list)\n",
    "\n",
    "# View the first 20 lines of datasets/road-accidents.csv\n",
    "accidents_head = ...\n",
    "accidents_head"
   ]
  },
  {
   "cell_type": "code",
   "execution_count": null,
   "metadata": {
    "tags": [
     "@solution"
    ]
   },
   "outputs": [],
   "source": [
    "# Check the name of the current directory\n",
    "current_dir = !pwd\n",
    "print(current_dir)\n",
    "\n",
    "# List all files in this directory\n",
    "file_list = !ls\n",
    "print(file_list)\n",
    "\n",
    "# List all files in the datasets directory\n",
    "dataset_list = !ls datasets\n",
    "print(dataset_list)\n",
    "\n",
    "# View the first 20 lines of datasets/road-accidents.csv\n",
    "accidents_head = !head -n 20 datasets/road-accidents.csv\n",
    "accidents_head"
   ]
  },
  {
   "cell_type": "code",
   "execution_count": null,
   "metadata": {
    "tags": [
     "@tests"
    ]
   },
   "outputs": [],
   "source": [
    "%%nose\n",
    "\n",
    "from pathlib import Path\n",
    "\n",
    "\n",
    "def test_current_dir():\n",
    "    assert current_dir == [str(Path.cwd())], \\\n",
    "    'The current_dir variable was not correctly assigned.'\n",
    "    \n",
    "    \n",
    "def test_file_list():\n",
    "    assert sorted(file_list) == sorted([str(p) for p in list(Path('.').glob('[A-z]*'))]), \\\n",
    "    'The file_list variable was not correctly assigned.'\n",
    "    \n",
    "    \n",
    "def test_accidents_head():\n",
    "    with open('datasets/road-accidents.csv') as f:\n",
    "        accidents_head_test = []\n",
    "        for i in range(20):\n",
    "            accidents_head_test.append(f.readline().rstrip())\n",
    "    assert accidents_head == accidents_head_test, \\\n",
    "    'The accidents_head variable was not correctly assigned.'"
   ]
  },
  {
   "cell_type": "markdown",
   "metadata": {
    "tags": [
     "type:NotebookTask"
    ]
   },
   "source": [
    "## 2. Read in and get an overview of the data"
   ]
  },
  {
   "cell_type": "markdown",
   "metadata": {
    "tags": [
     "@context"
    ]
   },
   "source": [
    "Next, we will orient ourselves to get to know the data with which we are dealing."
   ]
  },
  {
   "cell_type": "markdown",
   "metadata": {
    "tags": [
     "@instructions"
    ]
   },
   "source": [
    "Read in the main dataset file and start exploring the data.\n",
    "\n",
    "- Import the `pandas` module aliased as `pd`.\n",
    "- Read in `road-accidents.csv` (which is in the `datasets/` folder) using `read_csv()` from `pandas`. Set the `comment` and `sep` parameters based on the output from task 1.\n",
    "- Save the number of rows columns as a tuple, using the `shape` attribute.\n",
    "- Generate an overview of the DataFrame using the `info()` method.\n",
    "\n",
    "<hr>\n",
    "\n",
    "Does the output from these commands make sense? A quick data type sanity check can save us major headaches down the line.\n",
    "\n",
    "Look into the documentation of `read_csv` (with `pd.read_csv?`), to find out how to use the `comment` and `sep` parameters and specify `'#'` for comments and `'|'` as the separator.\n",
    "\n",
    "Helpful links:\n",
    "- pandas [cheat sheet](http://datacamp-community.s3.amazonaws.com/fbc502d0-46b2-4e1b-b6b0-5402ff273251)\n",
    "- pandas `read_csv()` function [documentation](https://pandas.pydata.org/pandas-docs/stable/generated/pandas.read_csv.html)\n",
    "- Reading a flat file [exercise](https://campus.datacamp.com/courses/pandas-foundations/data-ingestion-inspection?ex=10) in the pandas Foundations course"
   ]
  },
  {
   "cell_type": "markdown",
   "metadata": {
    "tags": [
     "@hint"
    ]
   },
   "source": [
    "Remember that the dataset is located within the `datasets` folder, so the full path from the current directory to the dataset is `'datasets/road-accidents.csv'`.\n",
    "\n",
    "From the output of the `head` command in the previous task, we can see that there are comments in the CSV file that are prefixed with `#` and the separators for the values is `|` rather than `,`.\n",
    "\n",
    "A correct version of the `read_csv()` code looks like this:\n",
    "\n",
    "```python\n",
    "car_acc = pd.read_csv('datasets/road-accidents.csv', comment='[COMMENT]', sep='[SEPARATOR]')\n",
    "```"
   ]
  },
  {
   "cell_type": "code",
   "execution_count": null,
   "metadata": {
    "tags": [
     "@sample_code"
    ]
   },
   "outputs": [],
   "source": [
    "# Import the pandas\n",
    "# ... YOUR CODE FOR TASK 2 ...\n",
    "\n",
    "# Read in `road-accidents.csv`\n",
    "car_acc = ...\n",
    "\n",
    "# Save the number of rows columns as a tuple\n",
    "rows_and_cols = ...\n",
    "print('There are {} rows and {} columns.\\n'.format(\n",
    "    rows_and_cols[0], rows_and_cols[1]))\n",
    "\n",
    "# Generate an overview of the DataFrame\n",
    "car_acc_information = ...\n",
    "print(car_acc_information)\n",
    "\n",
    "# Display the last five rows of the DataFrame\n",
    "car_acc.tail()"
   ]
  },
  {
   "cell_type": "code",
   "execution_count": null,
   "metadata": {
    "tags": [
     "@solution"
    ]
   },
   "outputs": [],
   "source": [
    "# Import the `pandas` module as \"pd\"\n",
    "import pandas as pd\n",
    "\n",
    "# Read in `road-accidents.csv`\n",
    "car_acc = pd.read_csv('datasets/road-accidents.csv', comment='#', sep='|')\n",
    "\n",
    "# Save the number of rows columns as a tuple\n",
    "rows_and_cols = car_acc.shape\n",
    "print('There are {} rows and {} columns.\\n'.format(\n",
    "    rows_and_cols[0], rows_and_cols[1]))\n",
    "\n",
    "# Generate an overview of the DataFrame\n",
    "car_acc_information = car_acc.info()\n",
    "print(car_acc_information)\n",
    "\n",
    "# Display the last five rows of the DataFrame\n",
    "car_acc.tail()"
   ]
  },
  {
   "cell_type": "code",
   "execution_count": null,
   "metadata": {
    "tags": [
     "@tests"
    ]
   },
   "outputs": [],
   "source": [
    "%%nose\n",
    "\n",
    "import sys\n",
    "\n",
    "def test_pandas_import():\n",
    "    assert 'pandas' in list(sys.modules.keys()), \\\n",
    "        'The pandas module has not been imported correctly.'\n",
    "    \n",
    "\n",
    "def test_car_acc():\n",
    "    car_acc_test = pd.read_csv('datasets/road-accidents.csv', comment='#', sep='|')\n",
    "    try:\n",
    "        pd.testing.assert_frame_equal(car_acc, car_acc_test)\n",
    "    except AssertionError:\n",
    "        assert False, \"The car_acc dataset was not read in correctly.\"\n",
    "        \n",
    "        \n",
    "def test_car_acc_shape():\n",
    "    assert rows_and_cols == (51, 5), \\\n",
    "    'The number of rows and variables were not calculated correctly.'\n",
    "\n",
    "    \n",
    "def test_car_acc_info():\n",
    "    assert car_acc_information == car_acc.info(), \\\n",
    "    'The overview does not appear to be have created properly using the info method.'"
   ]
  },
  {
   "cell_type": "markdown",
   "metadata": {
    "tags": [
     "type:NotebookTask"
    ]
   },
   "source": [
    "## 3. Create a textual and a graphical summary of the data"
   ]
  },
  {
   "cell_type": "markdown",
   "metadata": {
    "tags": [
     "@context"
    ]
   },
   "source": [
    "We now have an idea of what the dataset looks like. To further familiarize ourselves with this data, we will calculate summary statistics and produce a graphical overview of the data. The graphical overview is good to get a sense for the distribution of variables within the data and could consist of one histogram per column. It is often a good idea to also explore the pairwise relationship between all columns in the data set by using a using pairwise scatter plots (sometimes referred to as a \"scatterplot matrix\")."
   ]
  },
  {
   "cell_type": "markdown",
   "metadata": {
    "tags": [
     "@instructions"
    ]
   },
   "source": [
    "Create a textual and graphical overview of the data.\n",
    "\n",
    "- Compute the summary statistics of all columns in the `car_acc` DataFrame, using the `describe()` method.\n",
    "- Create a pairwise scatter plot to explore the data, using `sns.pairplot()`.\n",
    "\n",
    "<hr>\n",
    "\n",
    "Helpful links:\n",
    "- [sns.pairplot lecture](https://campus.datacamp.com/courses/data-visualization-with-seaborn/creating-plots-on-data-aware-grids?ex=5)\n",
    "- [seaborn pairplot documentation](https://seaborn.pydata.org/generated/seaborn.pairplot.html)"
   ]
  },
  {
   "cell_type": "markdown",
   "metadata": {
    "tags": [
     "@hint"
    ]
   },
   "source": [
    "`sns.pairplot` takes one argument: the variable name of DataFrame to be plotted."
   ]
  },
  {
   "cell_type": "code",
   "execution_count": null,
   "metadata": {
    "tags": [
     "@sample_code"
    ]
   },
   "outputs": [],
   "source": [
    "# import seaborn and make plots appear inline\n",
    "import seaborn as sns\n",
    "%matplotlib inline\n",
    "\n",
    "# Compute the summary statistics of all columns in the `car_acc` DataFrame\n",
    "sum_stat_car = ...\n",
    "print(sum_stat_car)\n",
    "\n",
    "# Create a pairwise scatter plot to explore the data\n",
    "# ... YOUR CODE FOR TASK 3 ..."
   ]
  },
  {
   "cell_type": "code",
   "execution_count": null,
   "metadata": {
    "tags": [
     "@solution"
    ]
   },
   "outputs": [],
   "source": [
    "# import seaborn and make plots appear inline\n",
    "import seaborn as sns\n",
    "%matplotlib inline\n",
    "\n",
    "# Compute the summary statistics of all columns in the `car_acc` DataFrame\n",
    "sum_stat_car = car_acc.describe()\n",
    "print(sum_stat_car)\n",
    "\n",
    "# Create a pairwise scatter plot to explore the data\n",
    "sns.pairplot(car_acc)"
   ]
  },
  {
   "cell_type": "code",
   "execution_count": null,
   "metadata": {
    "tags": [
     "@tests"
    ]
   },
   "outputs": [],
   "source": [
    "%%nose\n",
    "\n",
    "last_value = _\n",
    "\n",
    "import sys\n",
    "\n",
    "def test_seaborn_import():\n",
    "    assert 'seaborn' in list(sys.modules.keys()), \\\n",
    "        'The seaborn module has not been imported correctly.'\n",
    "    \n",
    "\n",
    "def test_car_desc():\n",
    "    try:\n",
    "        pd.testing.assert_frame_equal(sum_stat_car, car_acc.describe())\n",
    "    except AssertionError:\n",
    "        assert False, \"The sum_stat_car variable was not created correctly.\"\n",
    "\n",
    "\n",
    "def test_pairplot_created():\n",
    "    assert type(last_value) == sns.axisgrid.PairGrid, \\\n",
    "    'It does not appear that a Seaborn pairplot was the last output of the cell.'"
   ]
  },
  {
   "cell_type": "markdown",
   "metadata": {
    "tags": [
     "type:NotebookTask"
    ]
   },
   "source": [
    "## 4. Quantify the association of features and accidents"
   ]
  },
  {
   "cell_type": "markdown",
   "metadata": {
    "tags": [
     "@context"
    ]
   },
   "source": [
    "We can already see some potentially interesting relationships between the target variable (the number of fatal accidents) and the feature variables (the remaining three columns).\n",
    "\n",
    "To quantify the pairwise relationships that we observed in the scatter plots, we can compute the Pearson correlation coefficient matrix. The Pearson correlation coefficient is one of the most common methods to quantify correlation between variables, and by convention, the following thresholds are usually used:\n",
    "\n",
    "- 0.2 = weak\n",
    "- 0.5 = medium\n",
    "- 0.8 = strong\n",
    "- 0.9 = very strong"
   ]
  },
  {
   "cell_type": "markdown",
   "metadata": {
    "tags": [
     "@instructions"
    ]
   },
   "source": [
    "Explore the correlation between all column pairs in the DataFrame.\n",
    "\n",
    "- Compute the correlation coefficient for all column pairs in `car_acc`, using the `corr()` method.\n",
    "\n",
    "<hr>\n",
    "\n",
    "By default, the Pearson correlation coefficient will be computed.\n",
    "\n",
    "Helpful links:\n",
    "\n",
    "- [pandas corr method](https://pandas.pydata.org/pandas-docs/stable/generated/pandas.DataFrame.corr.html)"
   ]
  },
  {
   "cell_type": "markdown",
   "metadata": {
    "tags": [
     "@hint"
    ]
   },
   "source": [
    "Call the `corr()` method on the DataFrame without any arguments."
   ]
  },
  {
   "cell_type": "code",
   "execution_count": null,
   "metadata": {
    "tags": [
     "@sample_code"
    ]
   },
   "outputs": [],
   "source": [
    "# Compute the correlation coefficent for all column pairs\n",
    "corr_columns = ...\n",
    "corr_columns"
   ]
  },
  {
   "cell_type": "code",
   "execution_count": null,
   "metadata": {
    "tags": [
     "@solution"
    ]
   },
   "outputs": [],
   "source": [
    "# Compute the correlation coefficent for all column pairs\n",
    "corr_columns = car_acc.corr()\n",
    "corr_columns"
   ]
  },
  {
   "cell_type": "code",
   "execution_count": null,
   "metadata": {
    "tags": [
     "@tests"
    ]
   },
   "outputs": [],
   "source": [
    "%%nose\n",
    "\n",
    "def test_corr_columns():\n",
    "    try:\n",
    "        pd.testing.assert_frame_equal(corr_columns, car_acc.corr())\n",
    "    except AssertionError:\n",
    "        assert False, \"The corr_columns variable was not created correctly.\""
   ]
  },
  {
   "cell_type": "markdown",
   "metadata": {
    "tags": [
     "type:NotebookTask"
    ]
   },
   "source": [
    "## 5. Fit a multivariate linear regression"
   ]
  },
  {
   "cell_type": "markdown",
   "metadata": {
    "tags": [
     "@context"
    ]
   },
   "source": [
    "From the correlation table, we see that the amount of fatal accidents is most strongly correlated with alcohol consumption (first row). But in addition, we also see that some of the features are correlated with each other, for instance, speeding and alcohol consumption are positively correlated. We, therefore, want to compute the association of the target with each feature while adjusting for the effect of the remaining features. This can be done using multivariate linear regression.\n",
    "\n",
    "Both the multivariate regression and the correlation measure how strongly the features are associated with the outcome (fatal accidents). When comparing the regression coefficients with the correlation coefficients, we will see that they are slightly different. The reason for this is that the multiple regression computes the association of a feature with an outcome, given the association with all other features, which is not accounted for when calculating the correlation coefficients.\n",
    "\n",
    "A particularly interesting case is when the correlation coefficient and the regression coefficient of the same feature have opposite signs. How can this be? For example, when a feature A is positively correlated with the outcome Y but also positively correlated with a different feature B that has a negative effect on Y, then the indirect correlation (A->B->Y) can overwhelm the direct correlation (A->Y). In such a case, the regression coefficient of feature A could be positive, while the correlation coefficient is negative. This is sometimes called a *masking* relationship. Let’s see if the multivariate regression can reveal such a phenomenon."
   ]
  },
  {
   "cell_type": "markdown",
   "metadata": {
    "tags": [
     "@instructions"
    ]
   },
   "source": [
    "Fit a multivariate linear regression model using the fatal accident rate as the outcome. \n",
    "\n",
    "- Import the `linear_model` function from `sklearn`.\n",
    "- Create the features and target DataFrames, by subsetting the DataFrame `car_acc`.\n",
    "- Create a linear regression object, using `linear_model.LinearRegression()`.\n",
    "- Fit a multivariate linear regression model, using `fit()`.\n",
    "- Retrieve the regression coefficients from the `coef_` attribute of the fitted regression object.\n",
    "\n",
    "<hr>\n",
    "\n",
    "Helpful links:\n",
    "\n",
    "- [scikit-learn linear regression](http://scikit-learn.org/stable/modules/generated/sklearn.linear_model.LinearRegression.html)"
   ]
  },
  {
   "cell_type": "markdown",
   "metadata": {
    "tags": [
     "@hint"
    ]
   },
   "source": [
    "The `features` DataFrame should contain the following columns `'perc_fatl_speed'`, `'perc_fatl_alcohol'`, `'perc_fatl_1st_time'`. These columns need to be passed as a list to subset the original DataFrame.\n",
    "\n",
    "The `'target'` DataFrame should contain the `'drvr_fatl_col_bmiles'` column.\n",
    "\n",
    "To see the help documentation for how to fit the regression, use `fit.reg?`. Remember that the `X` parameter corresponds to the features and the `y` parameter is the target variable. "
   ]
  },
  {
   "cell_type": "code",
   "execution_count": null,
   "metadata": {
    "tags": [
     "@sample_code"
    ]
   },
   "outputs": [],
   "source": [
    "# Import the linear model function from sklearn\n",
    "from sklearn import ...\n",
    "\n",
    "# Create the features and target DataFrames\n",
    "features = ...\n",
    "target = ...\n",
    "\n",
    "# Create a linear regression object\n",
    "reg = ...\n",
    "\n",
    "# Fit a multivariate linear regression model\n",
    "# ... YOUR CODE FOR TASK 5 ...\n",
    "\n",
    "# Retrieve the regression coefficients\n",
    "fit_coef = ...\n",
    "fit_coef"
   ]
  },
  {
   "cell_type": "code",
   "execution_count": null,
   "metadata": {
    "tags": [
     "@solution"
    ]
   },
   "outputs": [],
   "source": [
    "# Import the linear model function from sklearn\n",
    "from sklearn import linear_model\n",
    "\n",
    "# Create the features and target DataFrames\n",
    "features = car_acc[['perc_fatl_speed', 'perc_fatl_alcohol', 'perc_fatl_1st_time']]\n",
    "target = car_acc['drvr_fatl_col_bmiles']\n",
    "\n",
    "# Create a linear regression object\n",
    "reg = linear_model.LinearRegression()\n",
    "\n",
    "# Fit a multivariate linear regression model\n",
    "reg.fit(features, target)\n",
    "\n",
    "# Retrieve the regression coefficients\n",
    "fit_coef = reg.coef_\n",
    "fit_coef"
   ]
  },
  {
   "cell_type": "code",
   "execution_count": null,
   "metadata": {
    "tags": [
     "@tests"
    ]
   },
   "outputs": [],
   "source": [
    "%%nose\n",
    "\n",
    "import sys\n",
    "import numpy\n",
    "\n",
    "\n",
    "def test_sklearn_import():\n",
    "    assert 'sklearn' in list(sys.modules.keys()), \\\n",
    "        'The seaborn module has not been imported correctly.'\n",
    "    \n",
    "    \n",
    "def test_features_df():\n",
    "    try:\n",
    "        pd.testing.assert_frame_equal(features, car_acc[['perc_fatl_speed', 'perc_fatl_alcohol', 'perc_fatl_1st_time']])\n",
    "    except AssertionError:\n",
    "        assert False, \"The features DataFrame was not created correctly.\"\n",
    "\n",
    "        \n",
    "def test_target_df():\n",
    "    try:\n",
    "        pd.testing.assert_frame_equal(target.to_frame(), car_acc[['drvr_fatl_col_bmiles']])\n",
    "    except AssertionError:\n",
    "        assert False, \"The target DataFrame variable was not created correctly.\"\n",
    "        \n",
    "        \n",
    "def test_lin_reg():\n",
    "    assert reg.coef_.round(3).tolist() == [-0.042,  0.191,  0.025], \\\n",
    "     'The linear regression coefficients are not correct.'"
   ]
  },
  {
   "cell_type": "markdown",
   "metadata": {
    "tags": [
     "type:NotebookTask"
    ]
   },
   "source": [
    "## 6. Perform PCA on standardized data"
   ]
  },
  {
   "cell_type": "markdown",
   "metadata": {
    "tags": [
     "@context"
    ]
   },
   "source": [
    "We have learned that alcohol consumption is weakly associated with the number of fatal accidents across states. This could lead us to conclude that alcohol consumption should be a focus for further investigations and maybe strategies should divide states into high versus low alcohol consumption in accidents. But there are also associations between  alcohol consumptions and the other two features, so it might be worth trying to split the states in a way that accounts for all three features.\n",
    "\n",
    "One way of clustering the data is to use PCA to visualize data in reduced dimensional space where we can try to pick up patterns by eye. PCA uses the absolute variance to calculate the overall variance explained for each principal component, so it is important that the features are on a similar scale (unless we would have a particular reason that one feature should be weighted more).\n",
    "\n",
    "We'll use the appropriate scaling function to standardize the features to be centered with mean 0 and scaled with standard deviation 1."
   ]
  },
  {
   "cell_type": "markdown",
   "metadata": {
    "tags": [
     "@instructions"
    ]
   },
   "source": [
    "Perform a principal component analysis on the standardized data\n",
    "\n",
    "- Standardize and center the feature columns, using the `StandardScaler` from `sklearn` and its `fit_transform()` method.\n",
    "- Import the PCA class from `sklearn`.\n",
    "- Fit the standardized data to the PCA class using its `fit()` method.\n",
    "- Compute the cumulative proportion of variance explained by the first two principal components, either by adding them together or by using the cumulative summation method (`cumsum`) of the explained variance array.\n",
    "\n",
    "<hr>\n",
    "\n",
    "Helpful links:\n",
    "\n",
    "- [scikit-learn standard scaler](http://scikit-learn.org/stable/modules/generated/sklearn.preprocessing.StandardScaler.html)\n",
    "- [scikit-learn PCA](http://scikit-learn.org/stable/modules/generated/sklearn.decomposition.PCA.html)\n",
    "- [Visualizing the PCA variance explained](https://campus.datacamp.com/courses/unsupervised-learning-in-python/decorrelating-your-data-and-dimension-reduction?ex=5)\n",
    "- [PCA variance explained exercise](https://campus.datacamp.com/courses/unsupervised-learning-in-python/decorrelating-your-data-and-dimension-reduction?ex=7)"
   ]
  },
  {
   "cell_type": "markdown",
   "metadata": {
    "tags": [
     "@hint"
    ]
   },
   "source": [
    "To standardize the features, the `features` DataFrame should be passed to `scaler.fit_transform()`.\n",
    "\n",
    "The proportion of variance explained is stored in `pca.explained_variance_ratio_`. \n",
    "\n",
    "If using the `cumsum()` method of `pca.explained_variance_ratio_`, remember that Python indexing starts at `0` so the sum of the first two components corresponds to position `1` in the array returned from `cumsum()`."
   ]
  },
  {
   "cell_type": "code",
   "execution_count": null,
   "metadata": {
    "tags": [
     "@sample_code"
    ]
   },
   "outputs": [],
   "source": [
    "# Standardize and center the feature columns\n",
    "from sklearn.preprocessing import StandardScaler\n",
    "scaler = StandardScaler()\n",
    "features_scaled = ...\n",
    "\n",
    "# Import the PCA class function from sklearn\n",
    "# ... YOUR CODE FOR TASK 6 ...\n",
    "pca = PCA()\n",
    "\n",
    "# Fit the standardized data to the pca\n",
    "# ... YOUR CODE FOR TASK 6 ...\n",
    "\n",
    "# Plot the proportion of variance explained on the y-axis of the bar plot\n",
    "import matplotlib.pyplot as plt\n",
    "plt.bar(range(1, pca.n_components_ + 1),  pca.explained_variance_ratio_)\n",
    "plt.xlabel('Principal component #')\n",
    "plt.ylabel('Proportion of variance explained')\n",
    "plt.xticks([1, 2, 3])\n",
    "\n",
    "# Compute the cumulative proportion of variance explained by the first two principal components\n",
    "two_first_comp_var_exp = ...\n",
    "print(\"The cumulative variance of the first two principal components is {}\".format(\n",
    "    round(two_first_comp_var_exp, 5)))"
   ]
  },
  {
   "cell_type": "code",
   "execution_count": null,
   "metadata": {
    "tags": [
     "@solution"
    ]
   },
   "outputs": [],
   "source": [
    "# Standardize and center the feature columns\n",
    "from sklearn.preprocessing import StandardScaler\n",
    "scaler = StandardScaler()\n",
    "features_scaled = scaler.fit_transform(features)\n",
    "\n",
    "# Import the PCA class from sklearn\n",
    "from sklearn.decomposition import PCA\n",
    "pca = PCA()\n",
    "\n",
    "# Fit the standardized data to the pca\n",
    "pca.fit(features_scaled)\n",
    "\n",
    "# Plot the proportion of variance explained on the y-axis of the bar plot\n",
    "import matplotlib.pyplot as plt\n",
    "plt.bar(range(1, pca.n_components_ + 1),  pca.explained_variance_ratio_)\n",
    "plt.xlabel('Principal component #')\n",
    "plt.ylabel('Proportion of variance explained')\n",
    "plt.xticks([1, 2, 3])\n",
    "\n",
    "# Compute the cumulative proportion of variance explained by the first two principal components\n",
    "two_first_comp_var_exp = pca.explained_variance_ratio_.cumsum()[1]\n",
    "print(\"The cumulative variance of the first two principal componenets is {}\".format(\n",
    "    round(two_first_comp_var_exp, 5)))"
   ]
  },
  {
   "cell_type": "code",
   "execution_count": null,
   "metadata": {
    "tags": [
     "@tests"
    ]
   },
   "outputs": [],
   "source": [
    "%%nose\n",
    "\n",
    "import sys\n",
    "import numpy\n",
    "\n",
    "\n",
    "def test_scaler():\n",
    "    assert scaler.fit_transform(features).round(3).tolist()[-1] == [1.077, 0.259, 0.185], \\\n",
    "        'The scaled features were not calculated properly.'\n",
    "\n",
    "    \n",
    "def test_pca():\n",
    "    assert (pca.explained_variance_ratio_ == PCA().fit(features_scaled).explained_variance_ratio_).all(), \\\n",
    "        'The explained variance ratio for the PCA was not correctly calculated.'\n",
    "    \n",
    "    \n",
    "def test_pc1_pc2():\n",
    "    assert two_first_comp_var_exp == PCA().fit(features_scaled).explained_variance_ratio_.cumsum()[1], \\\n",
    "        'The cumulative sum for the explained variance of the two first principal components was not correctly calculated.'"
   ]
  },
  {
   "cell_type": "markdown",
   "metadata": {
    "tags": [
     "type:NotebookTask"
    ]
   },
   "source": [
    "## 7. Visualize the first two principal components"
   ]
  },
  {
   "cell_type": "markdown",
   "metadata": {
    "tags": [
     "@context"
    ]
   },
   "source": [
    "The first two principal components enable visualization of the data in two dimensions while capturing a high proportion of the variation (79%) from all three features: speeding, alcohol influence, and first-time accidents. This enables us to use our eyes to try to discern patterns in the data with the goal to find groups of similar states. Although clustering algorithms are becoming increasingly efficient, human pattern recognition is an easily accessible and very efficient method of assessing patterns in data.\n",
    "\n",
    "We will create a scatter plot of the first principle components and explore how the states cluster together in this visualization."
   ]
  },
  {
   "cell_type": "markdown",
   "metadata": {
    "tags": [
     "@instructions"
    ]
   },
   "source": [
    "Transform the data and visualize the first two principal components in a scatter plot.\n",
    "- Create a `PCA` object with two components. Assign the result to the variable, `pca`.\n",
    "- Transform the data using two principal components and the `fit_transform()` method of the `PCA` object.\n",
    "- Extract the first and second component to use for the scatter plot. Assign the results to `p_comp1` and `p_comp2`, respectively.\n",
    "- Plot the first two principal components in a scatter plot, using `plt.scatter`.\n",
    "\n",
    "<hr>\n",
    "\n",
    "The `n_components` parameter controls the number of components with which to initialize the `PCA` class.\n",
    "\n",
    "The scatter plot should look something like [this](https://i.imgur.com/Sh1hqtv.png).\n",
    "\n",
    "Helpful links:\n",
    "\n",
    "- [Subsetting numpy arrays](https://campus.datacamp.com/courses/intro-to-python-for-data-science/chapter-4-numpy?ex=8)"
   ]
  },
  {
   "cell_type": "markdown",
   "metadata": {
    "tags": [
     "@hint"
    ]
   },
   "source": [
    "All values from an axis in a numpy array can be extracted using `:`. Combine this with `0` or `1` to subset `p_comps` for the first and second principal component, respectively.\n",
    "\n",
    "The `p_comp1` code should look like this:\n",
    "```python\n",
    "p_comp1 = p_comps[:, 0]\n",
    "```"
   ]
  },
  {
   "cell_type": "code",
   "execution_count": null,
   "metadata": {
    "tags": [
     "@sample_code"
    ]
   },
   "outputs": [],
   "source": [
    "# Transform the data using two principal components\n",
    "pca = ...\n",
    "p_comps = ...\n",
    "\n",
    "# Extract the first and second component to use for the scatter plot\n",
    "p_comp1 = p_comps[...]\n",
    "p_comp2 = p_comps[...]\n",
    "\n",
    "# Plot the first two principal components in a scatter plot\n",
    "# ... YOUR CODE FOR TASK 7 ..."
   ]
  },
  {
   "cell_type": "code",
   "execution_count": null,
   "metadata": {
    "tags": [
     "@solution"
    ]
   },
   "outputs": [],
   "source": [
    "# Transform the data using two principal components\n",
    "pca = PCA(n_components=2)\n",
    "p_comps = pca.fit_transform(features_scaled)\n",
    "\n",
    "# Extract the first and second component to use for the scatter plot\n",
    "p_comp1 = p_comps[:, 0]\n",
    "p_comp2 = p_comps[:, 1]\n",
    "\n",
    "# Plot the first two principal components in a scatter plot\n",
    "plt.scatter(p_comp1, p_comp2)"
   ]
  },
  {
   "cell_type": "code",
   "execution_count": null,
   "metadata": {
    "tags": [
     "@tests"
    ]
   },
   "outputs": [],
   "source": [
    "%%nose\n",
    "\n",
    "def test_pca_trans():\n",
    "    assert (p_comps == PCA(n_components=2).fit_transform(features_scaled)).all(), \\\n",
    "        'The student will see this message if the test fails.'\n",
    "    \n",
    "\n",
    "def test_pca_comp1():\n",
    "    assert (p_comp1 == p_comps[:, 0]).all(), \\\n",
    "        'The first principal component was not assigned correctly.'\n",
    "    \n",
    "\n",
    "def test_pca_comp2():\n",
    "    assert (p_comp2 == p_comps[:, 1]).all(), \\\n",
    "        'The second principal component was not assigned correctly.'"
   ]
  },
  {
   "cell_type": "markdown",
   "metadata": {
    "tags": [
     "type:NotebookTask"
    ]
   },
   "source": [
    "## 8. Find clusters of similar states in the data"
   ]
  },
  {
   "cell_type": "markdown",
   "metadata": {
    "tags": [
     "@context"
    ]
   },
   "source": [
    "It was not entirely clear from the PCA scatter plot how many groups in which the states cluster. To assist with identifying a reasonable number of clusters, we can use KMeans clustering by creating a scree plot and finding the \"elbow\", which is an indication of when the addition of more clusters does not add much explanatory power."
   ]
  },
  {
   "cell_type": "markdown",
   "metadata": {
    "tags": [
     "@instructions"
    ]
   },
   "source": [
    "Cluster the states using the KMeans algorithm and visualize the explanatory power for different numbers of clusters.\n",
    "\n",
    "- Import `KMeans` from `sklearn.cluster`.\n",
    "- Initialize the `KMeans` object using the current number of clusters (k).\n",
    "- Fit the scaled features to the `KMeans` object.\n",
    "- Append the inertia for `km` to the list of inertias.\n",
    "- Plot the results in a line plot using `matplotlib.pyplot.plot`. This type of plot is also called a scree plot.\n",
    "\n",
    "<hr>\n",
    "\n",
    "The line plot should look something like [this](https://i.imgur.com/iDZ4OOL.png).\n",
    "\n",
    "Helpful links:\n",
    "- [scikit-learn KMeans](http://scikit-learn.org/stable/modules/generated/sklearn.cluster.KMeans.html)\n",
    "- [Evaluating a clustering](https://campus.datacamp.com/courses/unsupervised-learning-in-python/clustering-for-dataset-exploration?ex=5)"
   ]
  },
  {
   "cell_type": "markdown",
   "metadata": {
    "tags": [
     "@hint"
    ]
   },
   "source": [
    "The `k` variable will be updated with the next value in `ks` for each iteration in the loop, so the setting `n_clusters=k` means that the clustering will be performed for all the numbers in `ks`. To be able to access the results after all iterations of the loop are done, the inertias are appended to a list instead of overwriting the list with each new iteration.\n",
    "\n",
    "For the line plot, use `ks` for the x-axis and `inertias` for the y-axis."
   ]
  },
  {
   "cell_type": "code",
   "execution_count": null,
   "metadata": {
    "tags": [
     "@sample_code"
    ]
   },
   "outputs": [],
   "source": [
    "# Import KMeans from sklearn\n",
    "# ... YOUR CODE FOR TASK 8 ...\n",
    "\n",
    "# A loop will be used to plot the explanatory power for up to 10 KMeans clusters\n",
    "ks = range(1, 10)\n",
    "inertias = []\n",
    "for k in ks:\n",
    "    # Initialize the KMeans object using the current number of clusters (k)\n",
    "    km = KMeans(n_clusters=..., random_state=8)\n",
    "    # Fit the scaled features to the KMeans object\n",
    "    km.fit(...)\n",
    "    # Append the inertia for `km` to the list of inertias\n",
    "    inertias.append(...)\n",
    "    \n",
    "# Plot the results in a line plot\n",
    "plt.plot(..., ..., marker='o')"
   ]
  },
  {
   "cell_type": "code",
   "execution_count": null,
   "metadata": {
    "tags": [
     "@solution"
    ]
   },
   "outputs": [],
   "source": [
    "# Import KMeans from sklearn\n",
    "from sklearn.cluster import KMeans\n",
    "\n",
    "# A loop will be used to plot the explantory power for up to 10 KMeans clusters\n",
    "ks = range(1, 10)\n",
    "inertias = []\n",
    "for k in ks:\n",
    "    # Initialize the KMeans object using the current number of clusers (k)\n",
    "    km = KMeans(n_clusters=k, random_state=8)\n",
    "    # Fit the scaled scaled features to the KMeans object\n",
    "    km.fit(features_scaled)\n",
    "    # Append the inertia for `km` to the list of inertias\n",
    "    inertias.append(km.inertia_)\n",
    "    \n",
    "# Plot the results in a line plot\n",
    "plt.plot(ks, inertias, marker='o')"
   ]
  },
  {
   "cell_type": "code",
   "execution_count": null,
   "metadata": {
    "tags": [
     "@tests"
    ]
   },
   "outputs": [],
   "source": [
    "%%nose\n",
    "\n",
    "def test_inertias():\n",
    "    test_ins = [153.0, 101.591, 72.293, 57.791, 46.106, 39.213, 32.99, 29.381, 25.985]\n",
    "    assert [round(inertia, 3) for inertia in inertias] ==  test_ins, \\\n",
    "        'The list of inertias was not properly constructed.'\n",
    "\n",
    "    \n",
    "def test_km():\n",
    "    assert (km.labels_ == KMeans(n_clusters=k, random_state=8).fit(features_scaled).labels_).all(), \\\n",
    "        'The KMeans labels were not properly assigned.'"
   ]
  },
  {
   "cell_type": "markdown",
   "metadata": {
    "tags": [
     "type:NotebookTask"
    ]
   },
   "source": [
    "## 9. KMeans to visualize clusters in the PCA scatter plot"
   ]
  },
  {
   "cell_type": "markdown",
   "metadata": {
    "tags": [
     "@context"
    ]
   },
   "source": [
    "Since there wasn't a clear elbow in the scree plot, assigning the states to either 2 or 3 clusters is a reasonable choice, and we will resume our analysis using 3 clusters. Let's see how the PCA scatter plot looks if we color the states according to the cluster to which they are assigned."
   ]
  },
  {
   "cell_type": "markdown",
   "metadata": {
    "tags": [
     "@instructions"
    ]
   },
   "source": [
    "Highlight the clusters of the K-means fit with three clusters in the PCA scatter plot.\n",
    "\n",
    "- Create a `KMeans` object with 3 clusters, setting `random_state` to 8 as in the previous task.\n",
    "- Fit the data to the `km` object.\n",
    "- Create a scatter plot of the first two principal components and color it according to the KMeans cluster assignment.\n",
    "\n",
    "<hr>\n",
    "\n",
    "The scatter plot should look something like [this](https://i.imgur.com/KIfMdrC.png).\n",
    "\n",
    "Helpful links:\n",
    "- [matplotlib scatter plot](https://matplotlib.org/api/_as_gen/matplotlib.pyplot.scatter.html)"
   ]
  },
  {
   "cell_type": "markdown",
   "metadata": {
    "tags": [
     "@hint"
    ]
   },
   "source": [
    "When plotting the data, use the same subsetting technique as in task 7, but instead of assigning the value to a new variable, subset the array within the call to `plt.scatter()`.\n",
    "\n",
    "Since the order of `km.labels_` is the same as the order of `p_comps`, the color of the scatter plot can be set by specifying `c=km.labels_`. Matplotlib has both names and numbers assigned to colors, so in this case, it will use the colors '0', '1', and '2'.\n",
    "\n",
    "The plotting code should look something like this:\n",
    "```python\n",
    "plt.scatter(p_comps[:, 0], p_comps[:, 1], c=km.labels_)\n",
    "```"
   ]
  },
  {
   "cell_type": "code",
   "execution_count": null,
   "metadata": {
    "tags": [
     "@sample_code"
    ]
   },
   "outputs": [],
   "source": [
    "# Create a KMeans object with 3 clusters, use random_state=8 \n",
    "km = ...\n",
    "\n",
    "# Fit the data to the `km` object\n",
    "#  ... YOUR CODE FOR TASK 9 ...\n",
    "\n",
    "# Create a scatter plot of the first two principal components\n",
    "# and color it according to the KMeans cluster assignment \n",
    "# ... YOUR CODE FOR TASK 9 ..."
   ]
  },
  {
   "cell_type": "code",
   "execution_count": null,
   "metadata": {
    "tags": [
     "@solution"
    ]
   },
   "outputs": [],
   "source": [
    "# Create a KMeans object with 3 clusters \n",
    "km = KMeans(n_clusters=3, random_state=8)\n",
    "# Fit the data to the `km` object\n",
    "km.fit(features_scaled)\n",
    "# Create a scatter plot of the first two principal components\n",
    "# and color it according to the KMeans cluster assignment \n",
    "plt.scatter(p_comps[:, 0], p_comps[:, 1], c=km.labels_)"
   ]
  },
  {
   "cell_type": "code",
   "execution_count": null,
   "metadata": {
    "tags": [
     "@tests"
    ]
   },
   "outputs": [],
   "source": [
    "%%nose\n",
    "\n",
    "def test_km_labels():\n",
    "    assert (km.labels_ == KMeans(n_clusters=3, random_state=8).fit(features_scaled).labels_).all(), \\\n",
    "        'The KMeans labels were not properly assigned.'"
   ]
  },
  {
   "cell_type": "markdown",
   "metadata": {
    "tags": [
     "type:NotebookTask"
    ]
   },
   "source": [
    "## 10. Visualize the feature differences between the clusters"
   ]
  },
  {
   "cell_type": "markdown",
   "metadata": {
    "tags": [
     "@context"
    ]
   },
   "source": [
    "Thus far, we have used both our visual interpretation of the data and the KMeans clustering algorithm to reveal patterns in the data, but what do these patterns mean?\n",
    "\n",
    "Remember that the information we have used to cluster the states into three distinct groups are the percentage of drivers speeding, under alcohol influence and that has not previously been involved in an accident. We used these clusters to visualize how the states group together when considering the first two principal components. This is good for us to understand structure in the data, but not always easy to understand, especially not if the findings are to be communicated to a non-specialist audience.\n",
    "\n",
    "A reasonable next step in our analysis is to explore how the three clusters are different in terms of the three features that we used for clustering. Instead of using the scaled features, we return to using the unscaled features to help us interpret the differences."
   ]
  },
  {
   "cell_type": "markdown",
   "metadata": {
    "tags": [
     "@instructions"
    ]
   },
   "source": [
    "Visualize the distribution of speeding, alcohol influence and percentage of first-time accidents in a direct comparison of the clusters\n",
    "\n",
    "- Create a new column with the labels from the KMeans clustering, using `km.labels_`.\n",
    "- Reshape the DataFrame to the long format, using `pd.melt()`. Use the features as the value variables and give them the name `'measurement'` in the new DataFrame. Name the value column `'percent'`.\n",
    "- Create a violin plot splitting and coloring the results according to the km-clusters using the `hue` parameter. Plot the measurements along the y-axis and the percent values along the x-axis.\n",
    "\n",
    "<hr>\n",
    "\n",
    "The violin plot should look something like [this](https://i.imgur.com/3fssz6J.png).\n",
    "\n",
    "Helpful links:\n",
    "- [Creating long DataFrames in pandas](https://campus.datacamp.com/courses/manipulating-dataframes-with-pandas/rearranging-and-reshaping-data?ex=9)\n",
    "- [seaborn violin plots](https://seaborn.pydata.org/generated/seaborn.violinplot.html)"
   ]
  },
  {
   "cell_type": "markdown",
   "metadata": {
    "tags": [
     "@hint"
    ]
   },
   "source": [
    "Just as in the previous task, remember that the order of `km.labels_` is the same as the order of observations in the DataFrame. Therefore, `km.labels_` can be assigned to `car_acc['cluster']` without worrying about reordering the values.\n",
    "\n",
    "Use `pd.melt?` to see how to specify the arguments for this functions. Importantly, the DataFrame is passed as an unnamed argument, while the remaining arguments are passed to named parameters. An example of how this could look would be something like this (note that the words surrounded by `[` and `]` need to be replaced by the correct variable or column names):\n",
    "\n",
    "```python\n",
    "pd.melt(car_acc, id_vars='<name_of_cluster_column>', var_name='<name_of_measurement_column>', \n",
    "        value_name='<name_of_percent_column>', value_vars=<list_of_the_three_feature_columns>)\n",
    "```\n",
    "\n",
    "In the violin plot, the `hue` parameters should be set to `'clusters'` to group and color points according to their cluster membership."
   ]
  },
  {
   "cell_type": "code",
   "execution_count": null,
   "metadata": {
    "tags": [
     "@sample_code"
    ]
   },
   "outputs": [],
   "source": [
    "# Create a new column with the labels from the KMeans clustering\n",
    "car_acc['cluster'] = ...\n",
    "\n",
    "# Reshape the DataFrame to the long format\n",
    "melt_car = pd.melt(...)\n",
    "\n",
    "# Create a violin plot splitting and coloring the results according to the km-clusters\n",
    "sns.violinplot(...)"
   ]
  },
  {
   "cell_type": "code",
   "execution_count": null,
   "metadata": {
    "tags": [
     "@solution"
    ]
   },
   "outputs": [],
   "source": [
    "# Create a new column with the labels from the KMeans clustering\n",
    "car_acc['cluster'] = km.labels_\n",
    "\n",
    "# Reshape the DataFrame to the long format\n",
    "melt_car = pd.melt(car_acc, id_vars='cluster', var_name='measurement', value_name='percent',\n",
    "                   value_vars=['perc_fatl_alcohol', 'perc_fatl_speed', 'perc_fatl_1st_time'])\n",
    "\n",
    "# Create a violin plot splitting and coloring the results according to the km-clusters\n",
    "sns.violinplot(y='measurement', x='percent', data=melt_car, hue='cluster')"
   ]
  },
  {
   "cell_type": "code",
   "execution_count": null,
   "metadata": {
    "tags": [
     "@tests"
    ]
   },
   "outputs": [],
   "source": [
    "%%nose\n",
    "\n",
    "def test_melt():\n",
    "    test_melt = pd.melt(car_acc, id_vars='cluster', var_name='measurement', value_name='percent',\n",
    "       value_vars=['perc_fatl_alcohol', 'perc_fatl_speed', 'perc_fatl_1st_time'])\n",
    "    try:\n",
    "        pd.testing.assert_frame_equal(melt_car, test_melt)\n",
    "    except AssertionError:\n",
    "        assert False, \"The melt_car DataFrame was not created correctly.\""
   ]
  },
  {
   "cell_type": "markdown",
   "metadata": {
    "tags": [
     "type:NotebookTask"
    ]
   },
   "source": [
    "## 11. Compute the number of accidents within each cluster"
   ]
  },
  {
   "cell_type": "markdown",
   "metadata": {
    "tags": [
     "@context"
    ]
   },
   "source": [
    "Now it is clear that different groups of states may require different interventions. Since resources and time are limited, it is useful to start off with an intervention in one of the three groups first. Which group would this be? To determine this, we will include data on how many miles are driven in each state, because this will help us to compute the total number of fatal accidents in each state. Data on miles driven is available in another tab-delimited text file. We will assign this new information to a column in the DataFrame and create a violin plot for how many total fatal traffic accidents there are within each state cluster."
   ]
  },
  {
   "cell_type": "markdown",
   "metadata": {
    "tags": [
     "@instructions"
    ]
   },
   "source": [
    "Add data on the number of miles driven per state to compute total number of fatal accidents and total accidents for each cluster.\n",
    "\n",
    "- Merge the `miles_driven` DataFrame with the `car_acc` DataFrame. Merge on the common column `state`.\n",
    "- Create a new column for the number of drivers involved in fatal accidents. Use the columns 'drvr_fatl_col_bmiles' and 'million_miles_annual', note that these are in billions and million respectively.\n",
    "- Calculate the number of states in each cluster and their mean and sum, using the pandas DataFrame `agg()` method.\n",
    "- Using `sns.barplot`, create a bar plot of the total number of fatal accidents per cluster, setting the `estimator` parameter to `sum`.\n",
    "\n",
    "<hr>\n",
    "\n",
    "The bar plot should look something like [this](https://i.imgur.com/VlJR2HW.png).\n",
    "\n",
    "The confidence intervals in the bar plot can be removed by setting `ci=None`, which is done in the provided sample code.\n",
    "\n",
    "Helpful links:\n",
    "- [Exercise on merging pandas DataFrames on a column](https://campus.datacamp.com/courses/merging-dataframes-with-pandas/merging-data?ex=3)\n",
    "- [Performing multiple aggregations in pandas DataFrames](https://campus.datacamp.com/courses/manipulating-dataframes-with-pandas/grouping-data?ex=5)"
   ]
  },
  {
   "cell_type": "markdown",
   "metadata": {
    "tags": [
     "@hint"
    ]
   },
   "source": [
    "`pd.merge()` has an `on` parameter that can be used to specify which column to merge the datasets on. Specifying this as `'state'` ensures that the values for the states line up when merging even if the two DataFrames are not in the same order.\n",
    "\n",
    "For the new column `'num_drvr_fatl_col'` remember to divide by 1000 to convert from billions to millions.\n",
    "\n",
    "To perform multiple aggregations with the `agg()` method, pass the aggregations as a list, e.g., `['count', 'mean', 'sum']`.\n",
    "\n",
    "For the barplot, the total number of accidents per cluster can be found by setting `estimator=sum`."
   ]
  },
  {
   "cell_type": "code",
   "execution_count": null,
   "metadata": {
    "tags": [
     "@sample_code"
    ]
   },
   "outputs": [],
   "source": [
    "# Read in the new dataset\n",
    "miles_driven = pd.read_csv('datasets/miles-driven.csv', sep='|')\n",
    "\n",
    "# Merge the `miles_driven` DataFrame with the `car_acc` DataFrame\n",
    "car_acc_miles = pd.merge(...)\n",
    "\n",
    "# Create a new column for the number of drivers involved in fatal accidents\n",
    "car_acc_miles['num_drvr_fatl_col'] = ...\n",
    "\n",
    "# Create a barplot of the total number of accidents per cluster\n",
    "sns.barplot(x=..., y=..., data=..., estimator=..., ci=None)\n",
    "\n",
    "# Calculate the number of states in each cluster and their mean and sum.\n",
    "count_mean_sum = ...\n",
    "count_mean_sum"
   ]
  },
  {
   "cell_type": "code",
   "execution_count": null,
   "metadata": {
    "tags": [
     "@solution"
    ]
   },
   "outputs": [],
   "source": [
    "# Read in the `miles-drives.csv`\n",
    "miles_driven = pd.read_csv('datasets/miles-driven.csv', sep='|')\n",
    "\n",
    "# Merge the `miles_driven` DataFrame with the `car_acc` DataFrame\n",
    "car_acc_miles = pd.merge(car_acc, miles_driven, on='state')\n",
    "\n",
    "# Create a new column for the number of drivers involved in fatal accidents\n",
    "car_acc_miles['num_drvr_fatl_col'] = car_acc_miles['drvr_fatl_col_bmiles'] * car_acc_miles['million_miles_annually'] / 1000\n",
    "\n",
    "# Create a barplot of the total number of accidents per cluster\n",
    "sns.barplot(x='cluster', y='num_drvr_fatl_col', data=car_acc_miles, estimator=sum, ci=None)\n",
    "\n",
    "# Calculate the number of states in each cluster and their mean and sum\n",
    "count_mean_sum = car_acc_miles.groupby('cluster')['num_drvr_fatl_col'].agg(['count', 'mean', 'sum'])\n",
    "count_mean_sum"
   ]
  },
  {
   "cell_type": "code",
   "execution_count": null,
   "metadata": {
    "tags": [
     "@tests"
    ]
   },
   "outputs": [],
   "source": [
    "%%nose\n",
    "\n",
    "def test_miles_driven():\n",
    "    try:\n",
    "        pd.testing.assert_frame_equal(miles_driven, pd.read_csv('datasets/miles-driven.csv', sep='|'))\n",
    "    except AssertionError:\n",
    "        assert False, 'The miles_driven DataFrame was not read in correctly.'\n",
    "\n",
    "\n",
    "def test_merge_dfs():\n",
    "    try:\n",
    "        pd.testing.assert_frame_equal(car_acc_miles.drop(columns='num_drvr_fatl_col'), pd.merge(car_acc, miles_driven, on='state'))\n",
    "    except AssertionError:\n",
    "        assert False, 'The two DataFrames were not merged correctly.'\n",
    "        \n",
    "        \n",
    "def test_new_column():\n",
    "    new_col_df_test = car_acc_miles['drvr_fatl_col_bmiles'] * car_acc_miles['million_miles_annually'] / 1000\n",
    "    new_col_df_test.name = 'num_drvr_fatl_col'\n",
    "    try:\n",
    "        pd.testing.assert_series_equal(car_acc_miles['num_drvr_fatl_col'], new_col_df_test)\n",
    "    except AssertionError:\n",
    "        assert False, 'The new column \"num_drvr_fatl_col\" was not computed correctly.'\n",
    "        \n",
    "        \n",
    "def test_agg():\n",
    "    count_mean_sum_test = car_acc_miles.groupby('cluster')['num_drvr_fatl_col'].agg(['count', 'mean', 'sum'])\n",
    "    try:\n",
    "        pd.testing.assert_frame_equal(count_mean_sum, count_mean_sum_test)\n",
    "    except AssertionError:\n",
    "        assert False, ('The aggregations were not performed correctly. '\n",
    "                       'Note that the order should be 1. \"count\", 2. \"mean\", and 3. \"sum\".')"
   ]
  },
  {
   "cell_type": "markdown",
   "metadata": {
    "tags": [
     "type:NotebookTask"
    ]
   },
   "source": [
    "## 12. Make a decision when there is no clear right choice"
   ]
  },
  {
   "cell_type": "markdown",
   "metadata": {
    "tags": [
     "@context"
    ]
   },
   "source": [
    "As we can see, there is no obvious correct choice regarding which cluster is the most important to focus on. Yet, we can still argue for a certain cluster and motivate this using our findings above. Which cluster do you think should be a focus for policy intervention and further investigation?"
   ]
  },
  {
   "cell_type": "markdown",
   "metadata": {
    "tags": [
     "@instructions"
    ]
   },
   "source": [
    "Decide which cluster to focus your resources on.\n",
    "\n",
    "- Which cluster would you choose: 1, 2, or 3?\n",
    "\n",
    "<hr>"
   ]
  },
  {
   "cell_type": "markdown",
   "metadata": {
    "tags": [
     "@hint"
    ]
   },
   "source": [
    "Assign `cluster_num` to 0, 1, or 2 and think about how to motivate the choice."
   ]
  },
  {
   "cell_type": "code",
   "execution_count": null,
   "metadata": {
    "tags": [
     "@sample_code"
    ]
   },
   "outputs": [],
   "source": [
    "# Which cluster would you choose?\n",
    "cluster_num = ..."
   ]
  },
  {
   "cell_type": "code",
   "execution_count": null,
   "metadata": {
    "tags": [
     "@solution"
    ]
   },
   "outputs": [],
   "source": [
    "# Which cluster would you choose?\n",
    "cluster_num = 0"
   ]
  },
  {
   "cell_type": "code",
   "execution_count": null,
   "metadata": {
    "tags": [
     "@tests"
    ]
   },
   "outputs": [],
   "source": [
    "%%nose --nocapture\n",
    "\n",
    "def test_cluster_choice():\n",
    "    assert cluster_num in range(3), \\\n",
    "    'cluster_num must be either 0, 1, or 2'\n",
    "    print('Well done! Note that there is no definite correct answer here and there are a few ways to justify each cluster choice:'\n",
    "          '\\n0 (Blue) = The lowest number of states and the highest number of people helped per state. Good for a focused pilot effort.'\n",
    "          '\\n2 (Green) = The highest number of people helped in total and the most states. Good if we can mobilize many resources right away.'\n",
    "          '\\n1 (Orange) = A good balance of the attributes from the two other clusters. This cluster also has the highest alcohol consumption'\n",
    "          '\\nwhich was the strongest correlated to fatal accidents.')"
   ]
  },
  {
   "cell_type": "markdown",
   "metadata": {},
   "source": [
    "*The recommended number of tasks in a DataCamp Project is between 8 and 10, so feel free to add more if necessary. You can't have more than 12 tasks.*"
   ]
  }
 ],
 "metadata": {
  "celltoolbar": "Tags",
  "kernelspec": {
   "display_name": "Python 3",
   "language": "python",
   "name": "python3"
  },
  "language_info": {
   "codemirror_mode": {
    "name": "ipython",
    "version": 3
   },
   "file_extension": ".py",
   "mimetype": "text/x-python",
   "name": "python",
   "nbconvert_exporter": "python",
   "pygments_lexer": "ipython3",
   "version": "3.6.5"
  }
 },
 "nbformat": 4,
 "nbformat_minor": 2
}
